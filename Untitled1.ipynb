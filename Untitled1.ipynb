{
  "nbformat": 4,
  "nbformat_minor": 0,
  "metadata": {
    "colab": {
      "provenance": [],
      "authorship_tag": "ABX9TyOhPzHmpuE2kejDuwn2KNEX",
      "include_colab_link": true
    },
    "kernelspec": {
      "name": "python3",
      "display_name": "Python 3"
    },
    "language_info": {
      "name": "python"
    }
  },
  "cells": [
    {
      "cell_type": "markdown",
      "metadata": {
        "id": "view-in-github",
        "colab_type": "text"
      },
      "source": [
        "<a href=\"https://colab.research.google.com/github/dallen466/UNT-2025/blob/main/Untitled1.ipynb\" target=\"_parent\"><img src=\"https://colab.research.google.com/assets/colab-badge.svg\" alt=\"Open In Colab\"/></a>"
      ]
    },
    {
      "cell_type": "markdown",
      "source": [
        "(1)Hello, my name is Demond Allen. I am a student at UNT."
      ],
      "metadata": {
        "id": "S2k8bmm24B8H"
      }
    },
    {
      "cell_type": "code",
      "source": [
        "#This is a code cell\n",
        "print(\"Nice to meet you!\")"
      ],
      "metadata": {
        "colab": {
          "base_uri": "https://localhost:8080/"
        },
        "id": "pHQTXQP84ClP",
        "outputId": "24771801-eb60-49c4-c461-0caf8aaf2283"
      },
      "execution_count": 11,
      "outputs": [
        {
          "output_type": "stream",
          "name": "stdout",
          "text": [
            "Nice to meet you!\n"
          ]
        }
      ]
    },
    {
      "cell_type": "markdown",
      "source": [
        "(2)"
      ],
      "metadata": {
        "id": "RU0-KYF75H-D"
      }
    },
    {
      "cell_type": "code",
      "source": [
        "My_name = \"Demond Allen\"\n",
        "message = \"Hello, my name is \" + My_name + \".\"\n",
        "print(message)"
      ],
      "metadata": {
        "colab": {
          "base_uri": "https://localhost:8080/"
        },
        "id": "dCR4kfc75GzD",
        "outputId": "7a72b051-6fe5-416e-b57e-589da9f9f70d"
      },
      "execution_count": 18,
      "outputs": [
        {
          "output_type": "stream",
          "name": "stdout",
          "text": [
            "Hello, my name is Demond Allen.\n"
          ]
        }
      ]
    },
    {
      "cell_type": "code",
      "source": [
        "(3)"
      ],
      "metadata": {
        "id": "P-OI8Zwg_qEm"
      },
      "execution_count": null,
      "outputs": []
    },
    {
      "cell_type": "code",
      "source": [
        "my_list = [52,6,11,89,300]\n",
        "avg = sum(my_list)/len(my_list)\n",
        "sum = sum(my_list)\n",
        "print(avg)\n",
        "print(sum)"
      ],
      "metadata": {
        "colab": {
          "base_uri": "https://localhost:8080/"
        },
        "id": "wt20vgvY_kFl",
        "outputId": "512f25ff-1dda-4565-c182-b5a9c09882fc"
      },
      "execution_count": 21,
      "outputs": [
        {
          "output_type": "stream",
          "name": "stdout",
          "text": [
            "91.6\n",
            "458\n"
          ]
        }
      ]
    }
  ]
}