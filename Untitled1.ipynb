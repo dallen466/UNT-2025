{
  "nbformat": 4,
  "nbformat_minor": 0,
  "metadata": {
    "colab": {
      "provenance": [],
      "authorship_tag": "ABX9TyMWI5tykEzvL0KDtvKxzvRK",
      "include_colab_link": true
    },
    "kernelspec": {
      "name": "python3",
      "display_name": "Python 3"
    },
    "language_info": {
      "name": "python"
    }
  },
  "cells": [
    {
      "cell_type": "markdown",
      "metadata": {
        "id": "view-in-github",
        "colab_type": "text"
      },
      "source": [
        "<a href=\"https://colab.research.google.com/github/dallen466/UNT-2025/blob/main/Untitled1.ipynb\" target=\"_parent\"><img src=\"https://colab.research.google.com/assets/colab-badge.svg\" alt=\"Open In Colab\"/></a>"
      ]
    },
    {
      "cell_type": "markdown",
      "source": [
        "(1)Hello, my name is Demond Allen. I am a student at UNT."
      ],
      "metadata": {
        "id": "S2k8bmm24B8H"
      }
    },
    {
      "cell_type": "code",
      "source": [
        "#This is a code cell\n",
        "print(\"Nice to meet you!\")"
      ],
      "metadata": {
        "colab": {
          "base_uri": "https://localhost:8080/"
        },
        "id": "pHQTXQP84ClP",
        "outputId": "d6488afb-6327-406e-b70c-fbaa96cd28a0"
      },
      "execution_count": 2,
      "outputs": [
        {
          "output_type": "stream",
          "name": "stdout",
          "text": [
            "Nice to meet you\n"
          ]
        }
      ]
    },
    {
      "cell_type": "markdown",
      "source": [
        "(2)"
      ],
      "metadata": {
        "id": "RU0-KYF75H-D"
      }
    },
    {
      "cell_type": "code",
      "source": [],
      "metadata": {
        "id": "dCR4kfc75GzD"
      },
      "execution_count": null,
      "outputs": []
    }
  ]
}