{
  "nbformat": 4,
  "nbformat_minor": 0,
  "metadata": {
    "colab": {
      "provenance": [],
      "authorship_tag": "ABX9TyNZbzIwV1B9vL8GroS9K3TF",
      "include_colab_link": true
    },
    "kernelspec": {
      "name": "python3",
      "display_name": "Python 3"
    },
    "language_info": {
      "name": "python"
    }
  },
  "cells": [
    {
      "cell_type": "markdown",
      "metadata": {
        "id": "view-in-github",
        "colab_type": "text"
      },
      "source": [
        "<a href=\"https://colab.research.google.com/github/dallen466/UNT-2025/blob/main/Untitled1.ipynb\" target=\"_parent\"><img src=\"https://colab.research.google.com/assets/colab-badge.svg\" alt=\"Open In Colab\"/></a>"
      ]
    },
    {
      "cell_type": "markdown",
      "source": [
        "(1)Hello, my name is Demond Allen. I am a student at UNT."
      ],
      "metadata": {
        "id": "S2k8bmm24B8H"
      }
    },
    {
      "cell_type": "code",
      "source": [
        "#This is a code cell\n",
        "print(\"Nice to meet you!\")"
      ],
      "metadata": {
        "colab": {
          "base_uri": "https://localhost:8080/"
        },
        "id": "pHQTXQP84ClP",
        "outputId": "24771801-eb60-49c4-c461-0caf8aaf2283"
      },
      "execution_count": null,
      "outputs": [
        {
          "output_type": "stream",
          "name": "stdout",
          "text": [
            "Nice to meet you!\n"
          ]
        }
      ]
    },
    {
      "cell_type": "markdown",
      "source": [
        "(2)"
      ],
      "metadata": {
        "id": "RU0-KYF75H-D"
      }
    },
    {
      "cell_type": "code",
      "source": [
        "My_name = 'Demond Allen'\n",
        "message = \"Hello, my name is \" + My_name + \".\"\n",
        "print(message)"
      ],
      "metadata": {
        "colab": {
          "base_uri": "https://localhost:8080/"
        },
        "id": "dCR4kfc75GzD",
        "outputId": "8d7dd973-b1b8-42fc-f3e4-4f883d714ea7"
      },
      "execution_count": null,
      "outputs": [
        {
          "output_type": "stream",
          "name": "stdout",
          "text": [
            "Hello, my name is Demond Allen.\n"
          ]
        }
      ]
    },
    {
      "cell_type": "code",
      "source": [
        "(3)"
      ],
      "metadata": {
        "id": "P-OI8Zwg_qEm"
      },
      "execution_count": null,
      "outputs": []
    },
    {
      "cell_type": "code",
      "source": [
        "My_name = 'Demond Allen'\n",
        "my_list = [52,6,11,89,300]\n",
        "sum(my_list)\n",
        "print(sum(my_list))\n",
        "len(my_list)\n",
        "avg = sum(my_list)/len(my_list)\n",
        "print(avg)\n"
      ],
      "metadata": {
        "id": "wt20vgvY_kFl",
        "colab": {
          "base_uri": "https://localhost:8080/"
        },
        "outputId": "5e21ca6c-a991-4005-8137-97fc0ef1dca6"
      },
      "execution_count": 3,
      "outputs": [
        {
          "output_type": "stream",
          "name": "stdout",
          "text": [
            "458\n",
            "91.6\n"
          ]
        }
      ]
    },
    {
      "cell_type": "markdown",
      "source": [
        "(4)"
      ],
      "metadata": {
        "id": "BKjuQcwEF66u"
      }
    },
    {
      "cell_type": "code",
      "source": [
        "\n",
        "type('Demond Allen')\n",
        "type(my_list)\n",
        "type(3.14159)\n",
        "dir(list.append)\n",
        "help(dir)\n",
        "help(list.append)\n",
        "str??"
      ],
      "metadata": {
        "colab": {
          "base_uri": "https://localhost:8080/"
        },
        "id": "csPr_LHyF6Gp",
        "outputId": "ba1c9057-2ea2-4e7b-c073-4dcb7ead3b18"
      },
      "execution_count": 13,
      "outputs": [
        {
          "output_type": "stream",
          "name": "stdout",
          "text": [
            "Help on built-in function dir in module builtins:\n",
            "\n",
            "dir(...)\n",
            "    dir([object]) -> list of strings\n",
            "\n",
            "    If called without an argument, return the names in the current scope.\n",
            "    Else, return an alphabetized list of names comprising (some of) the attributes\n",
            "    of the given object, and of attributes reachable from it.\n",
            "    If the object supplies a method named __dir__, it will be used; otherwise\n",
            "    the default dir() logic is used and returns:\n",
            "      for a module object: the module's attributes.\n",
            "      for a class object:  its attributes, and recursively the attributes\n",
            "        of its bases.\n",
            "      for any other object: its attributes, its class's attributes, and\n",
            "        recursively the attributes of its class's base classes.\n",
            "\n",
            "Help on method_descriptor:\n",
            "\n",
            "append(self, object, /) unbound builtins.list method\n",
            "    Append object to the end of the list.\n",
            "\n"
          ]
        }
      ]
    },
    {
      "cell_type": "markdown",
      "source": [
        "(5)"
      ],
      "metadata": {
        "id": "9l716GRiN4GR"
      }
    },
    {
      "cell_type": "code",
      "source": [
        "my_variable = 'I fixed it !!'\n",
        "#my_variable = 'I fixed 17 !!'\n",
        "print(my_variable)  # oops, never defined!"
      ],
      "metadata": {
        "colab": {
          "base_uri": "https://localhost:8080/"
        },
        "id": "YDovqiHJN4jq",
        "outputId": "f69f0029-eb2f-4212-be1e-752e4886dd94"
      },
      "execution_count": 2,
      "outputs": [
        {
          "output_type": "stream",
          "name": "stdout",
          "text": [
            "I fixed it !!\n"
          ]
        }
      ]
    },
    {
      "cell_type": "markdown",
      "source": [
        "(6)"
      ],
      "metadata": {
        "id": "gjWCL68JP9f-"
      }
    },
    {
      "cell_type": "code",
      "source": [],
      "metadata": {
        "id": "JEtsZB3xP-ho"
      },
      "execution_count": null,
      "outputs": []
    }
  ]
}